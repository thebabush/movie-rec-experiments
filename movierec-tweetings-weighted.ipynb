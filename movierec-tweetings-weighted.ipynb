{
 "cells": [
  {
   "cell_type": "markdown",
   "metadata": {},
   "source": [
    "# Movie Recommendation System Experiment 2\n",
    "\n",
    "During the first year of Covid-19, I watched tons of movies and ended up bored with normal recommendation systems.\n",
    "After all, there's only so many times you can re-watch all the Harry Potter saga or Guy Richie's filmography.\n",
    "On top of that, Hollywood seems to be fixated with superhero movies or biopic, which get **very boring** very soon.\n",
    "\n",
    "So I decided to try some simple ideas out, without even looking at a single recommender system paper.\n",
    "\n",
    "## The Idea\n",
    "\n",
    "Pretty standard _\"find other users like me\"_ but with some tweaks.\n",
    "\n",
    "## Preparing the data"
   ]
  },
  {
   "cell_type": "code",
   "execution_count": 1,
   "metadata": {},
   "outputs": [],
   "source": [
    "import pandas as pd\n",
    "import matplotlib\n",
    "%matplotlib inline\n",
    "import seaborn as sns\n",
    "import numpy as np\n",
    "from matplotlib import pyplot as plt\n",
    "import scipy.sparse as SS\n",
    "import sklearn.metrics.pairwise\n",
    "import scipy as sp\n",
    "import scipy"
   ]
  },
  {
   "cell_type": "code",
   "execution_count": 2,
   "metadata": {},
   "outputs": [],
   "source": [
    "# Config\n",
    "MIN_RATINGS = 3"
   ]
  },
  {
   "cell_type": "code",
   "execution_count": 3,
   "metadata": {},
   "outputs": [
    {
     "data": {
      "text/html": [
       "<div>\n",
       "<style scoped>\n",
       "    .dataframe tbody tr th:only-of-type {\n",
       "        vertical-align: middle;\n",
       "    }\n",
       "\n",
       "    .dataframe tbody tr th {\n",
       "        vertical-align: top;\n",
       "    }\n",
       "\n",
       "    .dataframe thead th {\n",
       "        text-align: right;\n",
       "    }\n",
       "</style>\n",
       "<table border=\"1\" class=\"dataframe\">\n",
       "  <thead>\n",
       "    <tr style=\"text-align: right;\">\n",
       "      <th></th>\n",
       "      <th>Const</th>\n",
       "      <th>Your Rating</th>\n",
       "      <th>Date Rated</th>\n",
       "      <th>Title</th>\n",
       "      <th>URL</th>\n",
       "      <th>Title Type</th>\n",
       "      <th>IMDb Rating</th>\n",
       "      <th>Runtime (mins)</th>\n",
       "      <th>Year</th>\n",
       "      <th>Genres</th>\n",
       "      <th>Num Votes</th>\n",
       "      <th>Release Date</th>\n",
       "      <th>Directors</th>\n",
       "      <th>movie_id</th>\n",
       "    </tr>\n",
       "  </thead>\n",
       "  <tbody>\n",
       "    <tr>\n",
       "      <th>0</th>\n",
       "      <td>tt0100150</td>\n",
       "      <td>8</td>\n",
       "      <td>2013-08-04</td>\n",
       "      <td>Miller's Crossing</td>\n",
       "      <td>https://www.imdb.com/title/tt0100150/</td>\n",
       "      <td>movie</td>\n",
       "      <td>7.7</td>\n",
       "      <td>115.0</td>\n",
       "      <td>1990</td>\n",
       "      <td>Crime, Drama, Thriller</td>\n",
       "      <td>127180</td>\n",
       "      <td>1990-09-21</td>\n",
       "      <td>Joel Coen, Ethan Coen</td>\n",
       "      <td>100150</td>\n",
       "    </tr>\n",
       "    <tr>\n",
       "      <th>1</th>\n",
       "      <td>tt1001526</td>\n",
       "      <td>6</td>\n",
       "      <td>2014-01-25</td>\n",
       "      <td>Megamind</td>\n",
       "      <td>https://www.imdb.com/title/tt1001526/</td>\n",
       "      <td>movie</td>\n",
       "      <td>7.2</td>\n",
       "      <td>95.0</td>\n",
       "      <td>2010</td>\n",
       "      <td>Animation, Action, Comedy, Family, Sci-Fi</td>\n",
       "      <td>232276</td>\n",
       "      <td>2010-10-28</td>\n",
       "      <td>Tom McGrath</td>\n",
       "      <td>1001526</td>\n",
       "    </tr>\n",
       "    <tr>\n",
       "      <th>2</th>\n",
       "      <td>tt1003034</td>\n",
       "      <td>6</td>\n",
       "      <td>2021-03-08</td>\n",
       "      <td>Perrier's Bounty</td>\n",
       "      <td>https://www.imdb.com/title/tt1003034/</td>\n",
       "      <td>movie</td>\n",
       "      <td>6.4</td>\n",
       "      <td>88.0</td>\n",
       "      <td>2009</td>\n",
       "      <td>Action, Comedy, Crime, Drama, Romance, Thriller</td>\n",
       "      <td>6505</td>\n",
       "      <td>2009-09-11</td>\n",
       "      <td>Ian Fitzgibbon</td>\n",
       "      <td>1003034</td>\n",
       "    </tr>\n",
       "    <tr>\n",
       "      <th>3</th>\n",
       "      <td>tt10048342</td>\n",
       "      <td>8</td>\n",
       "      <td>2020-12-28</td>\n",
       "      <td>The Queen's Gambit</td>\n",
       "      <td>https://www.imdb.com/title/tt10048342/</td>\n",
       "      <td>tvMiniSeries</td>\n",
       "      <td>8.6</td>\n",
       "      <td>395.0</td>\n",
       "      <td>2020</td>\n",
       "      <td>Drama</td>\n",
       "      <td>301894</td>\n",
       "      <td>2020-10-23</td>\n",
       "      <td>NaN</td>\n",
       "      <td>10048342</td>\n",
       "    </tr>\n",
       "    <tr>\n",
       "      <th>4</th>\n",
       "      <td>tt0101410</td>\n",
       "      <td>6</td>\n",
       "      <td>2016-05-09</td>\n",
       "      <td>Barton Fink</td>\n",
       "      <td>https://www.imdb.com/title/tt0101410/</td>\n",
       "      <td>movie</td>\n",
       "      <td>7.7</td>\n",
       "      <td>116.0</td>\n",
       "      <td>1991</td>\n",
       "      <td>Comedy, Drama, Thriller</td>\n",
       "      <td>114495</td>\n",
       "      <td>1991-05-18</td>\n",
       "      <td>Joel Coen, Ethan Coen</td>\n",
       "      <td>101410</td>\n",
       "    </tr>\n",
       "  </tbody>\n",
       "</table>\n",
       "</div>"
      ],
      "text/plain": [
       "        Const  Your Rating  Date Rated               Title  \\\n",
       "0   tt0100150            8  2013-08-04   Miller's Crossing   \n",
       "1   tt1001526            6  2014-01-25            Megamind   \n",
       "2   tt1003034            6  2021-03-08    Perrier's Bounty   \n",
       "3  tt10048342            8  2020-12-28  The Queen's Gambit   \n",
       "4   tt0101410            6  2016-05-09         Barton Fink   \n",
       "\n",
       "                                      URL    Title Type  IMDb Rating  \\\n",
       "0   https://www.imdb.com/title/tt0100150/         movie          7.7   \n",
       "1   https://www.imdb.com/title/tt1001526/         movie          7.2   \n",
       "2   https://www.imdb.com/title/tt1003034/         movie          6.4   \n",
       "3  https://www.imdb.com/title/tt10048342/  tvMiniSeries          8.6   \n",
       "4   https://www.imdb.com/title/tt0101410/         movie          7.7   \n",
       "\n",
       "   Runtime (mins)  Year                                           Genres  \\\n",
       "0           115.0  1990                           Crime, Drama, Thriller   \n",
       "1            95.0  2010        Animation, Action, Comedy, Family, Sci-Fi   \n",
       "2            88.0  2009  Action, Comedy, Crime, Drama, Romance, Thriller   \n",
       "3           395.0  2020                                            Drama   \n",
       "4           116.0  1991                          Comedy, Drama, Thriller   \n",
       "\n",
       "   Num Votes Release Date              Directors  movie_id  \n",
       "0     127180   1990-09-21  Joel Coen, Ethan Coen    100150  \n",
       "1     232276   2010-10-28            Tom McGrath   1001526  \n",
       "2       6505   2009-09-11         Ian Fitzgibbon   1003034  \n",
       "3     301894   2020-10-23                    NaN  10048342  \n",
       "4     114495   1991-05-18  Joel Coen, Ethan Coen    101410  "
      ]
     },
     "execution_count": 3,
     "metadata": {},
     "output_type": "execute_result"
    }
   ],
   "source": [
    "# Load my IMDB ratings\n",
    "mine = pd.read_csv(\n",
    "    './imdb-ratings.csv',\n",
    "    delimiter=',',\n",
    "    header=0,\n",
    "    encoding='latin1',\n",
    ")\n",
    "mine['movie_id'] = mine['Const'].str.slice(2).astype(int)\n",
    "mine.head()"
   ]
  },
  {
   "cell_type": "code",
   "execution_count": 4,
   "metadata": {},
   "outputs": [
    {
     "data": {
      "text/html": [
       "<div>\n",
       "<style scoped>\n",
       "    .dataframe tbody tr th:only-of-type {\n",
       "        vertical-align: middle;\n",
       "    }\n",
       "\n",
       "    .dataframe tbody tr th {\n",
       "        vertical-align: top;\n",
       "    }\n",
       "\n",
       "    .dataframe thead th {\n",
       "        text-align: right;\n",
       "    }\n",
       "</style>\n",
       "<table border=\"1\" class=\"dataframe\">\n",
       "  <thead>\n",
       "    <tr style=\"text-align: right;\">\n",
       "      <th></th>\n",
       "      <th>movie_id</th>\n",
       "      <th>title</th>\n",
       "      <th>genres</th>\n",
       "    </tr>\n",
       "  </thead>\n",
       "  <tbody>\n",
       "    <tr>\n",
       "      <th>0</th>\n",
       "      <td>10</td>\n",
       "      <td>La sortie des usines Lumière (1895)</td>\n",
       "      <td>Documentary|Short</td>\n",
       "    </tr>\n",
       "    <tr>\n",
       "      <th>1</th>\n",
       "      <td>12</td>\n",
       "      <td>The Arrival of a Train (1896)</td>\n",
       "      <td>Documentary|Short</td>\n",
       "    </tr>\n",
       "    <tr>\n",
       "      <th>2</th>\n",
       "      <td>25</td>\n",
       "      <td>The Oxford and Cambridge University Boat Race ...</td>\n",
       "      <td>NaN</td>\n",
       "    </tr>\n",
       "    <tr>\n",
       "      <th>3</th>\n",
       "      <td>91</td>\n",
       "      <td>Le manoir du diable (1896)</td>\n",
       "      <td>Short|Horror</td>\n",
       "    </tr>\n",
       "    <tr>\n",
       "      <th>4</th>\n",
       "      <td>131</td>\n",
       "      <td>Une nuit terrible (1896)</td>\n",
       "      <td>Short|Comedy|Horror</td>\n",
       "    </tr>\n",
       "  </tbody>\n",
       "</table>\n",
       "</div>"
      ],
      "text/plain": [
       "   movie_id                                              title  \\\n",
       "0        10                La sortie des usines Lumière (1895)   \n",
       "1        12                      The Arrival of a Train (1896)   \n",
       "2        25  The Oxford and Cambridge University Boat Race ...   \n",
       "3        91                         Le manoir du diable (1896)   \n",
       "4       131                           Une nuit terrible (1896)   \n",
       "\n",
       "                genres  \n",
       "0    Documentary|Short  \n",
       "1    Documentary|Short  \n",
       "2                  NaN  \n",
       "3         Short|Horror  \n",
       "4  Short|Comedy|Horror  "
      ]
     },
     "execution_count": 4,
     "metadata": {},
     "output_type": "execute_result"
    }
   ],
   "source": [
    "# Load twitter movie reviews\n",
    "# (See: https://github.com/sidooms/MovieTweetings)\n",
    "movies = pd.read_csv(\n",
    "    './data/movie-tweetings/movies.dat',\n",
    "    header=0,\n",
    "    delimiter='::',\n",
    "    names=['movie_id', 'title', 'genres'],\n",
    "    dtype={\n",
    "        'movie_id': int,\n",
    "        'title': str,\n",
    "        'genres': str,\n",
    "    },\n",
    "    engine='python',\n",
    ")\n",
    "movies.head()"
   ]
  },
  {
   "cell_type": "code",
   "execution_count": 5,
   "metadata": {},
   "outputs": [
    {
     "data": {
      "text/plain": [
       "<AxesSubplot:xlabel='std_rating', ylabel='Count'>"
      ]
     },
     "execution_count": 5,
     "metadata": {},
     "output_type": "execute_result"
    },
    {
     "data": {
      "image/png": "[encoded data removed]",
      "text/plain": [
       "<Figure size 432x288 with 1 Axes>"
      ]
     },
     "metadata": {
      "needs_background": "light"
     },
     "output_type": "display_data"
    }
   ],
   "source": [
    "# Normalize my own ratings\n",
    "prep_mine = mine.copy()\n",
    "prep_mine['std_rating'] = \\\n",
    "    (prep_mine['Your Rating'] - prep_mine['Your Rating'].mean()) \\\n",
    "    / prep_mine['Your Rating'].std()\n",
    "\n",
    "# Random tweak 1: turn the gaussian into a uniform random variable\n",
    "# Note: IMDB ratings are coarse-grained, so it's kinda impossible to do that properly\n",
    "#       (e.g.: I give a lot of 7's)\n",
    "prep_mine['std_rating'] = (scipy.special.erf(prep_mine['std_rating'] / np.sqrt(2)) + 1) / 2\n",
    "\n",
    "# View the resulting distribution\n",
    "sns.histplot(prep_mine['std_rating'])"
   ]
  },
  {
   "cell_type": "code",
   "execution_count": 6,
   "metadata": {},
   "outputs": [
    {
     "data": {
      "text/html": [
       "<div>\n",
       "<style scoped>\n",
       "    .dataframe tbody tr th:only-of-type {\n",
       "        vertical-align: middle;\n",
       "    }\n",
       "\n",
       "    .dataframe tbody tr th {\n",
       "        vertical-align: top;\n",
       "    }\n",
       "\n",
       "    .dataframe thead th {\n",
       "        text-align: right;\n",
       "    }\n",
       "</style>\n",
       "<table border=\"1\" class=\"dataframe\">\n",
       "  <thead>\n",
       "    <tr style=\"text-align: right;\">\n",
       "      <th></th>\n",
       "      <th>user_id</th>\n",
       "      <th>movie_id</th>\n",
       "      <th>rating</th>\n",
       "      <th>rating_timestamp</th>\n",
       "    </tr>\n",
       "  </thead>\n",
       "  <tbody>\n",
       "    <tr>\n",
       "      <th>0</th>\n",
       "      <td>0</td>\n",
       "      <td>114508</td>\n",
       "      <td>8</td>\n",
       "      <td>1381006850</td>\n",
       "    </tr>\n",
       "    <tr>\n",
       "      <th>1</th>\n",
       "      <td>1</td>\n",
       "      <td>499549</td>\n",
       "      <td>9</td>\n",
       "      <td>1376753198</td>\n",
       "    </tr>\n",
       "    <tr>\n",
       "      <th>2</th>\n",
       "      <td>1</td>\n",
       "      <td>1305591</td>\n",
       "      <td>8</td>\n",
       "      <td>1376742507</td>\n",
       "    </tr>\n",
       "    <tr>\n",
       "      <th>3</th>\n",
       "      <td>1</td>\n",
       "      <td>1428538</td>\n",
       "      <td>1</td>\n",
       "      <td>1371307089</td>\n",
       "    </tr>\n",
       "    <tr>\n",
       "      <th>4</th>\n",
       "      <td>2</td>\n",
       "      <td>75314</td>\n",
       "      <td>1</td>\n",
       "      <td>1595468524</td>\n",
       "    </tr>\n",
       "  </tbody>\n",
       "</table>\n",
       "</div>"
      ],
      "text/plain": [
       "   user_id  movie_id  rating  rating_timestamp\n",
       "0        0    114508       8        1381006850\n",
       "1        1    499549       9        1376753198\n",
       "2        1   1305591       8        1376742507\n",
       "3        1   1428538       1        1371307089\n",
       "4        2     75314       1        1595468524"
      ]
     },
     "execution_count": 6,
     "metadata": {},
     "output_type": "execute_result"
    }
   ],
   "source": [
    "# Load twitter users' movie ratings\n",
    "rate = pd.read_csv(\n",
    "    './data/movie-tweetings/ratings.dat',\n",
    "    names=['user_id', 'movie_id', 'rating', 'rating_timestamp'],\n",
    "    delimiter='::',\n",
    "    header=None,\n",
    "    encoding='latin1',\n",
    "    dtype={\n",
    "        'user_id': int,\n",
    "        'movie_id': int,\n",
    "        'rating_id': int,\n",
    "        'rating_timestamp': int,\n",
    "    },\n",
    "    engine='python',\n",
    ")\n",
    "\n",
    "# Start from 0\n",
    "rate.user_id -= 1\n",
    "\n",
    "rate.head()"
   ]
  },
  {
   "cell_type": "code",
   "execution_count": 7,
   "metadata": {},
   "outputs": [
    {
     "data": {
      "text/plain": [
       "((901964, 4), (789859, 4))"
      ]
     },
     "execution_count": 7,
     "metadata": {},
     "output_type": "execute_result"
    }
   ],
   "source": [
    "# Cleanup: remove users with less than MIN_RATINGS unique rating values\n",
    "user_nunique = rate[['user_id', 'rating']].groupby('user_id').nunique()\n",
    "blacklist = user_nunique[user_nunique['rating'] <= MIN_RATINGS].reset_index()\n",
    "old_shape = rate.shape\n",
    "rate = rate[~rate['user_id'].isin(blacklist['user_id'])]\n",
    "old_shape, rate.shape"
   ]
  },
  {
   "cell_type": "code",
   "execution_count": 8,
   "metadata": {},
   "outputs": [
    {
     "data": {
      "text/plain": [
       "<AxesSubplot:xlabel='rating', ylabel='Count'>"
      ]
     },
     "execution_count": 8,
     "metadata": {},
     "output_type": "execute_result"
    },
    {
     "data": {
      "image/png": "[encoded data removed]",
      "text/plain": [
       "<Figure size 432x288 with 1 Axes>"
      ]
     },
     "metadata": {
      "needs_background": "light"
     },
     "output_type": "display_data"
    }
   ],
   "source": [
    "# Let's take a look at users' rating std deviation distribution\n",
    "user_rating_std = rate.groupby('user_id')['rating'].std(ddof=0)\n",
    "sns.histplot(user_rating_std)"
   ]
  },
  {
   "cell_type": "code",
   "execution_count": 9,
   "metadata": {},
   "outputs": [
    {
     "data": {
      "text/html": [
       "<div>\n",
       "<style scoped>\n",
       "    .dataframe tbody tr th:only-of-type {\n",
       "        vertical-align: middle;\n",
       "    }\n",
       "\n",
       "    .dataframe tbody tr th {\n",
       "        vertical-align: top;\n",
       "    }\n",
       "\n",
       "    .dataframe thead th {\n",
       "        text-align: right;\n",
       "    }\n",
       "</style>\n",
       "<table border=\"1\" class=\"dataframe\">\n",
       "  <thead>\n",
       "    <tr style=\"text-align: right;\">\n",
       "      <th></th>\n",
       "      <th>user_id</th>\n",
       "      <th>movie_id</th>\n",
       "      <th>rating</th>\n",
       "      <th>rating_timestamp</th>\n",
       "      <th>user_avg</th>\n",
       "      <th>user_std</th>\n",
       "      <th>std_rating</th>\n",
       "    </tr>\n",
       "  </thead>\n",
       "  <tbody>\n",
       "    <tr>\n",
       "      <th>4</th>\n",
       "      <td>2</td>\n",
       "      <td>75314</td>\n",
       "      <td>1</td>\n",
       "      <td>1595468524</td>\n",
       "      <td>7.047619</td>\n",
       "      <td>2.192546</td>\n",
       "      <td>0.002905</td>\n",
       "    </tr>\n",
       "    <tr>\n",
       "      <th>5</th>\n",
       "      <td>2</td>\n",
       "      <td>102926</td>\n",
       "      <td>9</td>\n",
       "      <td>1590148016</td>\n",
       "      <td>7.047619</td>\n",
       "      <td>2.192546</td>\n",
       "      <td>0.813391</td>\n",
       "    </tr>\n",
       "    <tr>\n",
       "      <th>6</th>\n",
       "      <td>2</td>\n",
       "      <td>114369</td>\n",
       "      <td>10</td>\n",
       "      <td>1597555347</td>\n",
       "      <td>7.047619</td>\n",
       "      <td>2.192546</td>\n",
       "      <td>0.910938</td>\n",
       "    </tr>\n",
       "    <tr>\n",
       "      <th>7</th>\n",
       "      <td>2</td>\n",
       "      <td>118715</td>\n",
       "      <td>8</td>\n",
       "      <td>1596006798</td>\n",
       "      <td>7.047619</td>\n",
       "      <td>2.192546</td>\n",
       "      <td>0.667991</td>\n",
       "    </tr>\n",
       "    <tr>\n",
       "      <th>8</th>\n",
       "      <td>2</td>\n",
       "      <td>120737</td>\n",
       "      <td>8</td>\n",
       "      <td>1599306720</td>\n",
       "      <td>7.047619</td>\n",
       "      <td>2.192546</td>\n",
       "      <td>0.667991</td>\n",
       "    </tr>\n",
       "  </tbody>\n",
       "</table>\n",
       "</div>"
      ],
      "text/plain": [
       "   user_id  movie_id  rating  rating_timestamp  user_avg  user_std  std_rating\n",
       "4        2     75314       1        1595468524  7.047619  2.192546    0.002905\n",
       "5        2    102926       9        1590148016  7.047619  2.192546    0.813391\n",
       "6        2    114369      10        1597555347  7.047619  2.192546    0.910938\n",
       "7        2    118715       8        1596006798  7.047619  2.192546    0.667991\n",
       "8        2    120737       8        1599306720  7.047619  2.192546    0.667991"
      ]
     },
     "execution_count": 9,
     "metadata": {},
     "output_type": "execute_result"
    }
   ],
   "source": [
    "# Get mean/std to normalize the users' ratings\n",
    "scaler = pd.DataFrame()\n",
    "scaler['user_avg'] = rate.groupby('user_id')['rating'].mean()\n",
    "scaler['user_std'] = rate.groupby('user_id')['rating'].std(ddof=0)\n",
    "\n",
    "# Normalize\n",
    "prep_rate = rate.join(scaler, on='user_id')\n",
    "prep_rate['std_rating'] = (prep_rate['rating'] - prep_rate['user_avg']) / prep_rate['user_std']\n",
    "prep_rate['std_rating'] = (scipy.special.erf(prep_rate['std_rating'] / np.sqrt(2)) + 1) / 2\n",
    "#prep_rate['std_rating'].fillna(0, inplace=True)\n",
    "#prep_rate.loc[prep_rate['std_rating'] < 0]['std_rating'] = 0\n",
    "prep_rate.head()"
   ]
  },
  {
   "cell_type": "code",
   "execution_count": 10,
   "metadata": {},
   "outputs": [
    {
     "data": {
      "text/plain": [
       "<AxesSubplot:xlabel='std_rating', ylabel='Count'>"
      ]
     },
     "execution_count": 10,
     "metadata": {},
     "output_type": "execute_result"
    },
    {
     "data": {
      "image/png": "[encoded data removed]",
      "text/plain": [
       "<Figure size 432x288 with 1 Axes>"
      ]
     },
     "metadata": {
      "needs_background": "light"
     },
     "output_type": "display_data"
    }
   ],
   "source": [
    "# Look at the normalized ratings' distribution, globally (uniform, in theory, but unlikely)\n",
    "sns.histplot(prep_rate['std_rating'])"
   ]
  },
  {
   "cell_type": "code",
   "execution_count": 11,
   "metadata": {},
   "outputs": [
    {
     "data": {
      "text/plain": [
       "<70418x14404281 sparse matrix of type '<class 'numpy.float64'>'\n",
       "\twith 789859 stored elements in Compressed Sparse Column format>"
      ]
     },
     "execution_count": 11,
     "metadata": {},
     "output_type": "execute_result"
    }
   ],
   "source": [
    "# Create the rating matrix\n",
    "# `offset` is basically the default rating for unrated movies\n",
    "# Apparently 0.5 works best-ish\n",
    "#offset = 0\n",
    "offset = 0.5\n",
    "rmat = SS.coo_matrix((prep_rate.std_rating - offset, (prep_rate.user_id, prep_rate.movie_id)))\n",
    "rmat = rmat.tocsc()\n",
    "rmat"
   ]
  },
  {
   "cell_type": "code",
   "execution_count": 12,
   "metadata": {},
   "outputs": [
    {
     "data": {
      "text/plain": [
       "<AxesSubplot:ylabel='Count'>"
      ]
     },
     "execution_count": 12,
     "metadata": {},
     "output_type": "execute_result"
    },
    {
     "data": {
      "image/png": "[encoded data removed]",
      "text/plain": [
       "<Figure size 432x288 with 1 Axes>"
      ]
     },
     "metadata": {
      "needs_background": "light"
     },
     "output_type": "display_data"
    }
   ],
   "source": [
    "# Check distribution again after offsetting, just to be sure\n",
    "sns.histplot(np.ndarray.flatten(rmat.data))"
   ]
  },
  {
   "cell_type": "code",
   "execution_count": 13,
   "metadata": {},
   "outputs": [
    {
     "data": {
      "text/plain": [
       "array([[0., 0., 0., ..., 0., 0., 0.]])"
      ]
     },
     "execution_count": 13,
     "metadata": {},
     "output_type": "execute_result"
    }
   ],
   "source": [
    "# Make the query vector R_[1, MOVIES] using my own ratings\n",
    "query = np.zeros((1, rmat.shape[1]))\n",
    "query[0, prep_mine['movie_id']] = prep_mine['std_rating'] - offset\n",
    "query"
   ]
  },
  {
   "cell_type": "code",
   "execution_count": 14,
   "metadata": {},
   "outputs": [
    {
     "data": {
      "text/plain": [
       "(70418,)"
      ]
     },
     "execution_count": 14,
     "metadata": {},
     "output_type": "execute_result"
    }
   ],
   "source": [
    "# Find cosine similarity between me and other people, then normalize between in [0, 1]\n",
    "score = sklearn.metrics.pairwise.cosine_similarity(rmat, query)\n",
    "score = score[:, 0]\n",
    "score = score - score.min()\n",
    "score /= score.max()\n",
    "score.shape"
   ]
  },
  {
   "cell_type": "code",
   "execution_count": 15,
   "metadata": {},
   "outputs": [],
   "source": [
    "# Remove movies I already rated\n",
    "out_mat = rmat.copy().tolil()\n",
    "out_mat[:, prep_mine['movie_id']] = 0\n",
    "out_mat = out_mat.tocsc()"
   ]
  },
  {
   "cell_type": "code",
   "execution_count": 16,
   "metadata": {},
   "outputs": [],
   "source": [
    "# Similarity vs popularity heuristics\n",
    "score = score ** 0.5"
   ]
  },
  {
   "cell_type": "code",
   "execution_count": 17,
   "metadata": {},
   "outputs": [],
   "source": [
    "# Weight the other users' ratings by the similarity score\n",
    "score = score.reshape(-1, 1)\n",
    "out = out_mat.multiply(score)\n",
    "out.eliminate_zeros()"
   ]
  },
  {
   "cell_type": "code",
   "execution_count": 18,
   "metadata": {},
   "outputs": [
    {
     "data": {
      "text/plain": [
       "<AxesSubplot:ylabel='Count'>"
      ]
     },
     "execution_count": 18,
     "metadata": {},
     "output_type": "execute_result"
    },
    {
     "data": {
      "image/png": "[encoded data removed]",
      "text/plain": [
       "<Figure size 432x288 with 1 Axes>"
      ]
     },
     "metadata": {
      "needs_background": "light"
     },
     "output_type": "display_data"
    }
   ],
   "source": [
    "sns.histplot(out.data)"
   ]
  },
  {
   "cell_type": "code",
   "execution_count": 19,
   "metadata": {},
   "outputs": [
    {
     "data": {
      "text/plain": [
       "<AxesSubplot:ylabel='Count'>"
      ]
     },
     "execution_count": 19,
     "metadata": {},
     "output_type": "execute_result"
    },
    {
     "data": {
      "image/png": "[encoded data removed]",
      "text/plain": [
       "<Figure size 432x288 with 1 Axes>"
      ]
     },
     "metadata": {
      "needs_background": "light"
     },
     "output_type": "display_data"
    }
   ],
   "source": [
    "# Normalize the suggestions in [0, 1]\n",
    "movie_scores = np.array(out.sum(axis=0))[0]\n",
    "movie_scores = movie_scores - movie_scores.min()\n",
    "movie_scores /= movie_scores.max()\n",
    "movie_indexes = movie_scores.argsort()[::-1]\n",
    "movie_scores = movie_scores[movie_indexes]\n",
    "\n",
    "# See what's going on\n",
    "sns.histplot(movie_scores, log_scale=(False, True))"
   ]
  },
  {
   "cell_type": "code",
   "execution_count": 20,
   "metadata": {},
   "outputs": [],
   "source": [
    "# Make the final recommendation dataframe\n",
    "rec = pd.DataFrame()\n",
    "rec['movie_id'] = movie_indexes\n",
    "rec['score'] = movie_scores\n",
    "rec = rec.join(on='movie_id', other=movies.set_index('movie_id'))"
   ]
  },
  {
   "cell_type": "code",
   "execution_count": 21,
   "metadata": {},
   "outputs": [
    {
     "data": {
      "text/html": [
       "<div>\n",
       "<style scoped>\n",
       "    .dataframe tbody tr th:only-of-type {\n",
       "        vertical-align: middle;\n",
       "    }\n",
       "\n",
       "    .dataframe tbody tr th {\n",
       "        vertical-align: top;\n",
       "    }\n",
       "\n",
       "    .dataframe thead th {\n",
       "        text-align: right;\n",
       "    }\n",
       "</style>\n",
       "<table border=\"1\" class=\"dataframe\">\n",
       "  <thead>\n",
       "    <tr style=\"text-align: right;\">\n",
       "      <th></th>\n",
       "      <th>movie_id</th>\n",
       "      <th>score</th>\n",
       "      <th>title</th>\n",
       "      <th>genres</th>\n",
       "    </tr>\n",
       "  </thead>\n",
       "  <tbody>\n",
       "    <tr>\n",
       "      <th>0</th>\n",
       "      <td>1454468</td>\n",
       "      <td>1.000000</td>\n",
       "      <td>Gravity (2013)</td>\n",
       "      <td>Drama|Sci-Fi|Thriller</td>\n",
       "    </tr>\n",
       "    <tr>\n",
       "      <th>1</th>\n",
       "      <td>1663202</td>\n",
       "      <td>0.784491</td>\n",
       "      <td>The Revenant (2015)</td>\n",
       "      <td>Action|Adventure|Biography|Drama|Western</td>\n",
       "    </tr>\n",
       "    <tr>\n",
       "      <th>2</th>\n",
       "      <td>3170832</td>\n",
       "      <td>0.709449</td>\n",
       "      <td>Room (2015)</td>\n",
       "      <td>Drama|Thriller</td>\n",
       "    </tr>\n",
       "    <tr>\n",
       "      <th>3</th>\n",
       "      <td>3783958</td>\n",
       "      <td>0.703927</td>\n",
       "      <td>La La Land (2016)</td>\n",
       "      <td>Comedy|Drama|Music|Musical|Romance</td>\n",
       "    </tr>\n",
       "    <tr>\n",
       "      <th>4</th>\n",
       "      <td>1798709</td>\n",
       "      <td>0.681771</td>\n",
       "      <td>Her (2013)</td>\n",
       "      <td>Drama|Romance|Sci-Fi</td>\n",
       "    </tr>\n",
       "    <tr>\n",
       "      <th>5</th>\n",
       "      <td>1170358</td>\n",
       "      <td>0.659766</td>\n",
       "      <td>The Hobbit: The Desolation of Smaug (2013)</td>\n",
       "      <td>Adventure|Fantasy</td>\n",
       "    </tr>\n",
       "    <tr>\n",
       "      <th>6</th>\n",
       "      <td>2980516</td>\n",
       "      <td>0.600484</td>\n",
       "      <td>The Theory of Everything (2014)</td>\n",
       "      <td>Biography|Drama|Romance</td>\n",
       "    </tr>\n",
       "    <tr>\n",
       "      <th>7</th>\n",
       "      <td>2380307</td>\n",
       "      <td>0.582097</td>\n",
       "      <td>Coco (2017)</td>\n",
       "      <td>Animation|Adventure|Comedy|Family|Fantasy|Musi...</td>\n",
       "    </tr>\n",
       "    <tr>\n",
       "      <th>8</th>\n",
       "      <td>2948356</td>\n",
       "      <td>0.565030</td>\n",
       "      <td>Zootopia (2016)</td>\n",
       "      <td>Animation|Adventure|Comedy|Crime|Family|Mystery</td>\n",
       "    </tr>\n",
       "    <tr>\n",
       "      <th>9</th>\n",
       "      <td>3741834</td>\n",
       "      <td>0.560316</td>\n",
       "      <td>Lion (2016)</td>\n",
       "      <td>Biography|Drama</td>\n",
       "    </tr>\n",
       "    <tr>\n",
       "      <th>10</th>\n",
       "      <td>2103281</td>\n",
       "      <td>0.537904</td>\n",
       "      <td>Dawn of the Planet of the Apes (2014)</td>\n",
       "      <td>Action|Adventure|Drama|Sci-Fi</td>\n",
       "    </tr>\n",
       "    <tr>\n",
       "      <th>11</th>\n",
       "      <td>2582846</td>\n",
       "      <td>0.519204</td>\n",
       "      <td>The Fault in Our Stars (2014)</td>\n",
       "      <td>Drama|Romance</td>\n",
       "    </tr>\n",
       "    <tr>\n",
       "      <th>12</th>\n",
       "      <td>454876</td>\n",
       "      <td>0.518853</td>\n",
       "      <td>Life of Pi (2012)</td>\n",
       "      <td>Adventure|Drama|Fantasy</td>\n",
       "    </tr>\n",
       "    <tr>\n",
       "      <th>13</th>\n",
       "      <td>1024648</td>\n",
       "      <td>0.509992</td>\n",
       "      <td>Argo (2012)</td>\n",
       "      <td>Biography|Drama|Thriller</td>\n",
       "    </tr>\n",
       "    <tr>\n",
       "      <th>14</th>\n",
       "      <td>4857264</td>\n",
       "      <td>0.508966</td>\n",
       "      <td>Contratiempo (2016)</td>\n",
       "      <td>Crime|Mystery|Thriller</td>\n",
       "    </tr>\n",
       "    <tr>\n",
       "      <th>15</th>\n",
       "      <td>3748528</td>\n",
       "      <td>0.499791</td>\n",
       "      <td>Rogue One (2016)</td>\n",
       "      <td>Action|Adventure|Sci-Fi</td>\n",
       "    </tr>\n",
       "    <tr>\n",
       "      <th>16</th>\n",
       "      <td>4034228</td>\n",
       "      <td>0.498036</td>\n",
       "      <td>Manchester by the Sea (2016)</td>\n",
       "      <td>Drama</td>\n",
       "    </tr>\n",
       "    <tr>\n",
       "      <th>17</th>\n",
       "      <td>2245084</td>\n",
       "      <td>0.490549</td>\n",
       "      <td>Big Hero 6 (2014)</td>\n",
       "      <td>Animation|Action|Adventure|Comedy|Family|Sci-Fi</td>\n",
       "    </tr>\n",
       "    <tr>\n",
       "      <th>18</th>\n",
       "      <td>73486</td>\n",
       "      <td>0.490495</td>\n",
       "      <td>One Flew Over the Cuckoo's Nest (1975)</td>\n",
       "      <td>Drama</td>\n",
       "    </tr>\n",
       "    <tr>\n",
       "      <th>19</th>\n",
       "      <td>108052</td>\n",
       "      <td>0.484289</td>\n",
       "      <td>Schindler's List (1993)</td>\n",
       "      <td>Biography|Drama|History</td>\n",
       "    </tr>\n",
       "  </tbody>\n",
       "</table>\n",
       "</div>"
      ],
      "text/plain": [
       "    movie_id     score                                       title  \\\n",
       "0    1454468  1.000000                              Gravity (2013)   \n",
       "1    1663202  0.784491                         The Revenant (2015)   \n",
       "2    3170832  0.709449                                 Room (2015)   \n",
       "3    3783958  0.703927                           La La Land (2016)   \n",
       "4    1798709  0.681771                                  Her (2013)   \n",
       "5    1170358  0.659766  The Hobbit: The Desolation of Smaug (2013)   \n",
       "6    2980516  0.600484             The Theory of Everything (2014)   \n",
       "7    2380307  0.582097                                 Coco (2017)   \n",
       "8    2948356  0.565030                             Zootopia (2016)   \n",
       "9    3741834  0.560316                                 Lion (2016)   \n",
       "10   2103281  0.537904       Dawn of the Planet of the Apes (2014)   \n",
       "11   2582846  0.519204               The Fault in Our Stars (2014)   \n",
       "12    454876  0.518853                           Life of Pi (2012)   \n",
       "13   1024648  0.509992                                 Argo (2012)   \n",
       "14   4857264  0.508966                         Contratiempo (2016)   \n",
       "15   3748528  0.499791                            Rogue One (2016)   \n",
       "16   4034228  0.498036                Manchester by the Sea (2016)   \n",
       "17   2245084  0.490549                           Big Hero 6 (2014)   \n",
       "18     73486  0.490495      One Flew Over the Cuckoo's Nest (1975)   \n",
       "19    108052  0.484289                     Schindler's List (1993)   \n",
       "\n",
       "                                               genres  \n",
       "0                               Drama|Sci-Fi|Thriller  \n",
       "1            Action|Adventure|Biography|Drama|Western  \n",
       "2                                      Drama|Thriller  \n",
       "3                  Comedy|Drama|Music|Musical|Romance  \n",
       "4                                Drama|Romance|Sci-Fi  \n",
       "5                                   Adventure|Fantasy  \n",
       "6                             Biography|Drama|Romance  \n",
       "7   Animation|Adventure|Comedy|Family|Fantasy|Musi...  \n",
       "8     Animation|Adventure|Comedy|Crime|Family|Mystery  \n",
       "9                                     Biography|Drama  \n",
       "10                      Action|Adventure|Drama|Sci-Fi  \n",
       "11                                      Drama|Romance  \n",
       "12                            Adventure|Drama|Fantasy  \n",
       "13                           Biography|Drama|Thriller  \n",
       "14                             Crime|Mystery|Thriller  \n",
       "15                            Action|Adventure|Sci-Fi  \n",
       "16                                              Drama  \n",
       "17    Animation|Action|Adventure|Comedy|Family|Sci-Fi  \n",
       "18                                              Drama  \n",
       "19                            Biography|Drama|History  "
      ]
     },
     "execution_count": 21,
     "metadata": {},
     "output_type": "execute_result"
    }
   ],
   "source": [
    "# Best matches\n",
    "rec.head(20)"
   ]
  },
  {
   "cell_type": "code",
   "execution_count": 22,
   "metadata": {},
   "outputs": [
    {
     "data": {
      "text/html": [
       "<div>\n",
       "<style scoped>\n",
       "    .dataframe tbody tr th:only-of-type {\n",
       "        vertical-align: middle;\n",
       "    }\n",
       "\n",
       "    .dataframe tbody tr th {\n",
       "        vertical-align: top;\n",
       "    }\n",
       "\n",
       "    .dataframe thead th {\n",
       "        text-align: right;\n",
       "    }\n",
       "</style>\n",
       "<table border=\"1\" class=\"dataframe\">\n",
       "  <thead>\n",
       "    <tr style=\"text-align: right;\">\n",
       "      <th></th>\n",
       "      <th>movie_id</th>\n",
       "      <th>score</th>\n",
       "      <th>title</th>\n",
       "      <th>genres</th>\n",
       "    </tr>\n",
       "  </thead>\n",
       "  <tbody>\n",
       "    <tr>\n",
       "      <th>14404271</th>\n",
       "      <td>1502712</td>\n",
       "      <td>0.117979</td>\n",
       "      <td>Fantastic Four (2015)</td>\n",
       "      <td>Action|Adventure|Drama|Sci-Fi</td>\n",
       "    </tr>\n",
       "    <tr>\n",
       "      <th>14404272</th>\n",
       "      <td>1606378</td>\n",
       "      <td>0.114418</td>\n",
       "      <td>A Good Day to Die Hard (2013)</td>\n",
       "      <td>Action|Thriller</td>\n",
       "    </tr>\n",
       "    <tr>\n",
       "      <th>14404273</th>\n",
       "      <td>2109248</td>\n",
       "      <td>0.099481</td>\n",
       "      <td>Transformers: Age of Extinction (2014)</td>\n",
       "      <td>Action|Adventure|Sci-Fi</td>\n",
       "    </tr>\n",
       "    <tr>\n",
       "      <th>14404274</th>\n",
       "      <td>831387</td>\n",
       "      <td>0.094559</td>\n",
       "      <td>Godzilla (2014)</td>\n",
       "      <td>Action|Adventure|Sci-Fi|Thriller</td>\n",
       "    </tr>\n",
       "    <tr>\n",
       "      <th>14404275</th>\n",
       "      <td>2322441</td>\n",
       "      <td>0.093987</td>\n",
       "      <td>50 tinten grijs (2015)</td>\n",
       "      <td>Drama|Romance|Thriller</td>\n",
       "    </tr>\n",
       "    <tr>\n",
       "      <th>14404276</th>\n",
       "      <td>2872732</td>\n",
       "      <td>0.080496</td>\n",
       "      <td>Lucy (2014)</td>\n",
       "      <td>Action|Sci-Fi|Thriller</td>\n",
       "    </tr>\n",
       "    <tr>\n",
       "      <th>14404277</th>\n",
       "      <td>1959490</td>\n",
       "      <td>0.053464</td>\n",
       "      <td>Noah (2014)</td>\n",
       "      <td>Action|Adventure|Drama</td>\n",
       "    </tr>\n",
       "    <tr>\n",
       "      <th>14404278</th>\n",
       "      <td>2184339</td>\n",
       "      <td>0.033905</td>\n",
       "      <td>The Purge (2013)</td>\n",
       "      <td>Horror|Thriller</td>\n",
       "    </tr>\n",
       "    <tr>\n",
       "      <th>14404279</th>\n",
       "      <td>1815862</td>\n",
       "      <td>0.016003</td>\n",
       "      <td>After Earth (2013)</td>\n",
       "      <td>Action|Adventure|Sci-Fi</td>\n",
       "    </tr>\n",
       "    <tr>\n",
       "      <th>14404280</th>\n",
       "      <td>1951261</td>\n",
       "      <td>0.000000</td>\n",
       "      <td>The Hangover Part III (2013)</td>\n",
       "      <td>Adventure|Comedy|Crime</td>\n",
       "    </tr>\n",
       "  </tbody>\n",
       "</table>\n",
       "</div>"
      ],
      "text/plain": [
       "          movie_id     score                                   title  \\\n",
       "14404271   1502712  0.117979                   Fantastic Four (2015)   \n",
       "14404272   1606378  0.114418           A Good Day to Die Hard (2013)   \n",
       "14404273   2109248  0.099481  Transformers: Age of Extinction (2014)   \n",
       "14404274    831387  0.094559                         Godzilla (2014)   \n",
       "14404275   2322441  0.093987                  50 tinten grijs (2015)   \n",
       "14404276   2872732  0.080496                             Lucy (2014)   \n",
       "14404277   1959490  0.053464                             Noah (2014)   \n",
       "14404278   2184339  0.033905                        The Purge (2013)   \n",
       "14404279   1815862  0.016003                      After Earth (2013)   \n",
       "14404280   1951261  0.000000            The Hangover Part III (2013)   \n",
       "\n",
       "                                    genres  \n",
       "14404271     Action|Adventure|Drama|Sci-Fi  \n",
       "14404272                   Action|Thriller  \n",
       "14404273           Action|Adventure|Sci-Fi  \n",
       "14404274  Action|Adventure|Sci-Fi|Thriller  \n",
       "14404275            Drama|Romance|Thriller  \n",
       "14404276            Action|Sci-Fi|Thriller  \n",
       "14404277            Action|Adventure|Drama  \n",
       "14404278                   Horror|Thriller  \n",
       "14404279           Action|Adventure|Sci-Fi  \n",
       "14404280            Adventure|Comedy|Crime  "
      ]
     },
     "execution_count": 22,
     "metadata": {},
     "output_type": "execute_result"
    }
   ],
   "source": [
    "# Worst matches\n",
    "# These look more accurate than the good ones lol\n",
    "rec.tail(10)"
   ]
  },
  {
   "cell_type": "code",
   "execution_count": 23,
   "metadata": {},
   "outputs": [
    {
     "name": "stdout",
     "output_type": "stream",
     "text": [
      "1.0000 Gravity (2013)                                     Drama|Sci-Fi|Thriller\n",
      "0.7845 The Revenant (2015)                                Action|Adventure|Biography|Drama|Western\n",
      "0.7094 Room (2015)                                        Drama|Thriller\n",
      "0.7039 La La Land (2016)                                  Comedy|Drama|Music|Musical|Romance\n",
      "0.6818 Her (2013)                                         Drama|Romance|Sci-Fi\n",
      "0.6598 The Hobbit: The Desolation of Smaug (2013)         Adventure|Fantasy\n",
      "0.6005 The Theory of Everything (2014)                    Biography|Drama|Romance\n",
      "0.5821 Coco (2017)                                        Animation|Adventure|Comedy|Family|Fantasy|Music|Mystery\n",
      "0.5650 Zootopia (2016)                                    Animation|Adventure|Comedy|Crime|Family|Mystery\n",
      "0.5603 Lion (2016)                                        Biography|Drama\n",
      "0.5379 Dawn of the Planet of the Apes (2014)              Action|Adventure|Drama|Sci-Fi\n",
      "0.5192 The Fault in Our Stars (2014)                      Drama|Romance\n",
      "0.5189 Life of Pi (2012)                                  Adventure|Drama|Fantasy\n",
      "0.5100 Argo (2012)                                        Biography|Drama|Thriller\n",
      "0.5090 Contratiempo (2016)                                Crime|Mystery|Thriller\n",
      "0.4998 Rogue One (2016)                                   Action|Adventure|Sci-Fi\n",
      "0.4980 Manchester by the Sea (2016)                       Drama\n",
      "0.4905 Big Hero 6 (2014)                                  Animation|Action|Adventure|Comedy|Family|Sci-Fi\n",
      "0.4905 One Flew Over the Cuckoo's Nest (1975)             Drama\n",
      "0.4843 Schindler's List (1993)                            Biography|Drama|History\n",
      "0.4825 The Conjuring (2013)                               Horror|Mystery|Thriller\n",
      "0.4720 Frozen (2013)                                      Animation|Adventure|Comedy|Family|Fantasy|Musical\n",
      "0.4718 Creed (2015)                                       Drama|Sport\n",
      "0.4683 Lone Survivor (2013)                               Action|Biography|Drama|War\n",
      "0.4677 Wonder (2017)                                      Drama|Family\n",
      "0.4602 Jagten (2012)                                      Drama\n",
      "0.4593 About Time (2013)                                  Comedy|Drama|Fantasy|Romance|Sci-Fi\n",
      "0.4576 The Pianist (2002)                                 Biography|Drama|Music|War\n",
      "0.4525 Incendies (2010)                                   Drama|Mystery|War\n",
      "0.4450 Il buono, il brutto, il cattivo (1966)             Western\n",
      "0.4370 Toy Story 4 (2019)                                 Animation|Adventure|Comedy|Family|Fantasy\n",
      "0.4370 Toy Story 4 (2019)                                 Animation|Adventure|Comedy|Family|Fantasy\n",
      "0.4321 The Jungle Book (2016)                             Adventure|Drama|Family|Fantasy\n",
      "0.4309 It's a Wonderful Life (1946)                       Drama|Family|Fantasy\n",
      "0.4253 Nebraska (2013)                                    Adventure|Comedy|Drama\n",
      "0.4249 How to Train Your Dragon 2 (2014)                  Animation|Action|Adventure|Comedy|Family|Fantasy\n",
      "0.4243 Psycho (1960)                                      Horror|Mystery|Thriller\n",
      "0.4243 Nocturnal Animals (2016)                           Drama|Thriller\n",
      "0.4241 Philomena (2013)                                   Biography|Comedy|Drama\n",
      "0.4238 Mission: Impossible - Rogue Nation (2015)          Action|Adventure|Thriller\n",
      "0.4235 Marriage Story (2019)                              Comedy|Drama\n",
      "0.4220 Relatos salvajes (2014)                            Comedy|Drama|Thriller\n",
      "0.4205 The Greatest Showman (2017)                        Biography|Drama|Musical\n",
      "0.4203 Sen to Chihiro no kamikakushi (2001)               Animation|Adventure|Family|Fantasy|Mystery\n",
      "0.4203 Get Out (2017)                                     Horror|Mystery|Thriller\n",
      "0.4198 Dangal (2016)                                      Action|Biography|Drama|Sport\n",
      "0.4120 La vita è bella (1997)                             Comedy|Drama|Romance|War\n",
      "0.4120 Braveheart (1995)                                  Biography|Drama|History|War\n",
      "0.4115 Wind River (2017)                                  Crime|Drama|Mystery|Thriller\n",
      "0.4074 Into the Wild (2007)                               Adventure|Biography|Drama\n",
      "0.4061 The Hobbit: The Battle of the Five Armies (2014)   Adventure|Fantasy\n",
      "0.4027 The Hobbit: An Unexpected Journey (2012)           Adventure|Family|Fantasy\n",
      "0.4019 Before Midnight (2013)                             Drama|Romance\n",
      "0.4006 The Help (2011)                                    Drama\n",
      "0.4001 Cidade de Deus (2002)                              Crime|Drama\n",
      "0.3976 Captain Fantastic (2016)                           Comedy|Drama\n",
      "0.3973 The Pursuit of Happyness (2006)                    Biography|Drama\n",
      "0.3965 Despicable Me 2 (2013)                             Animation|Adventure|Comedy|Family|Fantasy|Sci-Fi\n",
      "0.3959 The Shining (1980)                                 Drama|Horror\n",
      "0.3954 The Lives of Others (2006)                         Drama|Thriller\n",
      "0.3942 Blackfish (2013)                                   Documentary|Drama\n",
      "0.3935 Before Sunrise (1995)                              Drama|Romance\n",
      "0.3929 A Quiet Place (2018)                               Drama|Horror|Sci-Fi\n",
      "0.3913 Capharnaüm (2018)                                  Drama\n",
      "0.3892 Jurassic Park (1993)                               Adventure|Sci-Fi|Thriller\n",
      "0.3884 The Raid 2 (2014)                                  Action|Crime|Thriller\n",
      "0.3866 Alien (1979)                                       Horror|Sci-Fi\n",
      "0.3864 Lo imposible (2012)                                Drama|History|Thriller\n",
      "0.3849 PK (2014)                                          Comedy|Drama|Fantasy\n",
      "0.3844 Mystic River (2003)                                Crime|Drama|Mystery|Thriller\n",
      "0.3843 Disconnect (2012)                                  Drama|Thriller\n",
      "0.3837 Finding Dory (2016)                                Animation|Adventure|Comedy|Family\n",
      "0.3826 Aliens (1986)                                      Action|Adventure|Sci-Fi|Thriller\n",
      "0.3825 El secreto de sus ojos (2009)                      Drama|Mystery|Romance|Thriller\n",
      "0.3821 Monsters University (2013)                         Animation|Adventure|Comedy|Family|Fantasy\n",
      "0.3809 Vaiana (2016)                                      Animation|Adventure|Comedy|Family|Fantasy|Musical\n",
      "0.3795 Darkest Hour (2017)                                Biography|Drama|History|War\n",
      "0.3791 Incredibles 2 (2018)                               Animation|Action|Adventure|Family|Sci-Fi\n",
      "0.3785 Amélie (2001)                                      Comedy|Romance\n",
      "0.3783 Mud (2012)                                         Drama\n",
      "0.3779 The Notebook (2004)                                Drama|Romance\n",
      "0.3776 Before Sunset (2004)                               Drama|Romance\n",
      "0.3752 3 Idiots (2009)                                    Comedy|Drama\n",
      "0.3751 The Book Thief (2013)                              Drama|War\n",
      "0.3744 Casablanca (1942)                                  Drama|Romance|War\n",
      "0.3742 Toy Story 3 (2010)                                 Animation|Adventure|Comedy|Family|Fantasy\n",
      "0.3739 Jodaeiye Nader az Simin (2011)                     Drama|Thriller\n",
      "0.3734 Star Trek (2009)                                   Action|Adventure|Sci-Fi\n",
      "0.3729 Searching for Sugar Man (2012)                     Documentary|Biography|Music\n",
      "0.3728 Begin Again (2013)                                 Comedy|Drama|Music|Romance\n",
      "0.3722 Apocalypse Now (1979)                              Drama|War\n",
      "0.3715 WALL·E (2008)                                      Animation|Adventure|Family|Sci-Fi\n",
      "0.3705 Vertigo (1958)                                     Mystery|Romance|Thriller\n",
      "0.3697 Up (2009)                                          Animation|Adventure|Comedy|Family\n",
      "0.3691 How to Train Your Dragon (2010)                    Animation|Action|Adventure|Family|Fantasy\n",
      "0.3675 Cinderella Man (2005)                              Biography|Drama|Sport\n",
      "0.3671 La vie d'Adèle (2013)                              Drama|Romance\n",
      "0.3671 El cuerpo (2012)                                   Mystery|Thriller\n",
      "0.3654 Still Alice (2014)                                 Drama\n",
      "0.3651 Witness for the Prosecution (1957)                 Crime|Drama|Mystery|Thriller\n"
     ]
    }
   ],
   "source": [
    "# Print more suggestions for debug purposes\n",
    "for i, row in rec[:100].iterrows():\n",
    "    _, score, title, genres = row\n",
    "    print(f'{score:0.4f} {title:50s} {genres}')"
   ]
  },
  {
   "cell_type": "markdown",
   "metadata": {},
   "source": [
    "Apparently, I should really watch Gravity (:\n",
    "\n",
    "Cheers,\n",
    "\n",
    "_babush_"
   ]
  }
 ],
 "metadata": {
  "kernelspec": {
   "display_name": "Python 3",
   "language": "python",
   "name": "python3"
  },
  "language_info": {
   "codemirror_mode": {
    "name": "ipython",
    "version": 3
   },
   "file_extension": ".py",
   "mimetype": "text/x-python",
   "name": "python",
   "nbconvert_exporter": "python",
   "pygments_lexer": "ipython3",
   "version": "3.6.10"
  }
 },
 "nbformat": 4,
 "nbformat_minor": 4
}
